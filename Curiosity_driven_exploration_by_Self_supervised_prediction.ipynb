{
  "nbformat": 4,
  "nbformat_minor": 0,
  "metadata": {
    "colab": {
      "provenance": [],
      "authorship_tag": "ABX9TyMaiCPPhXOhISCjAldSCBhl",
      "include_colab_link": true
    },
    "kernelspec": {
      "name": "python3",
      "display_name": "Python 3"
    },
    "language_info": {
      "name": "python"
    }
  },
  "cells": [
    {
      "cell_type": "markdown",
      "metadata": {
        "id": "view-in-github",
        "colab_type": "text"
      },
      "source": [
        "<a href=\"https://colab.research.google.com/github/Stefano-Previti/Curiosity_driven_exploration_by_self_supervised_prediction/blob/main/Curiosity_driven_exploration_by_Self_supervised_prediction.ipynb\" target=\"_parent\"><img src=\"https://colab.research.google.com/assets/colab-badge.svg\" alt=\"Open In Colab\"/></a>"
      ]
    },
    {
      "cell_type": "markdown",
      "source": [
        "**▶INITIAL SETUP OF THE ENVIROMENT**"
      ],
      "metadata": {
        "id": "RMJGOp4E4FmC"
      }
    },
    {
      "cell_type": "code",
      "source": [
        "# Super Mario environment for OpenAI Gym\n",
        "!pip install gym-super-mario-bros\n",
        "\n",
        "# Backend for NES emulation\n",
        "!pip install nes-py\n",
        "\n",
        "# PyTorch for building and training neural networks\n",
        "!pip install torch torchvision\n",
        "\n",
        "# TensorBoard for monitoring training progress\n",
        "!pip install tensorboard\n",
        "\n",
        "# Visualization tools for plotting and analysis\n",
        "!pip install matplotlib\n"
      ],
      "metadata": {
        "id": "HoJQskYsRIGK"
      },
      "execution_count": null,
      "outputs": []
    },
    {
      "cell_type": "code",
      "source": [
        "from pyvirtualdisplay import Display\n",
        "import gym\n",
        "from gym_super_mario_bros import make\n",
        "from gym_super_mario_bros.actions import COMPLEX_MOVEMENT\n",
        "from gym.wrappers import FrameStack\n",
        "from matplotlib import pyplot as plt\n",
        "from IPython.display import display, clear_output\n",
        "from PIL import Image\n",
        "import numpy as np\n",
        "import cv2\n",
        "import random\n",
        "import time\n",
        "\n",
        "class SuperMarioEnvironment:\n",
        "    def __init__(self, level_id=\"SuperMarioBros-1-1-v0\", frame_size=(42, 42)):\n",
        "        \"\"\"Initialize the Super Mario Environment.\n",
        "        \"\"\"\n",
        "        self.level_id = level_id\n",
        "        self.env = None\n",
        "        self.actions = COMPLEX_MOVEMENT\n",
        "        self.frame_size = frame_size\n",
        "\n",
        "    def preprocess_frame(self, frame):\n",
        "        \"\"\"Preprocess a frame by resizing and converting it to grayscale.\n",
        "        \"\"\"\n",
        "        if isinstance(frame, gym.wrappers.frame_stack.LazyFrames):\n",
        "            frame = np.array(frame)\n",
        "        resized_stack = np.array([\n",
        "            cv2.resize(cv2.cvtColor(f, cv2.COLOR_RGB2GRAY), self.frame_size) for f in frame\n",
        "        ])\n",
        "        resized_stack = resized_stack[..., np.newaxis]\n",
        "        return resized_stack\n",
        "\n",
        "    def create_environment(self):\n",
        "        \"\"\"Create the Super Mario environment with frame stacking.\"\"\"\n",
        "        self.env = make(self.level_id)\n",
        "        self.env = FrameStack(self.env, num_stack=4)\n",
        "        print(f\"Environment for {self.level_id} created.\")\n",
        "\n",
        "    def reset_environment(self):\n",
        "        \"\"\"Reset the environment and return the preprocessed initial state.\"\"\"\n",
        "        if self.env is None:\n",
        "            raise ValueError(\"Environment not created. Call create_environment() first.\")\n",
        "        frame = self.env.reset()\n",
        "        return self.preprocess_frame(frame)\n",
        "\n",
        "    def step(self, action):\n",
        "        \"\"\"Take an action in the environment.\n",
        "        \"\"\"\n",
        "        if self.env is None:\n",
        "            raise ValueError(\"Environment not created. Call create_environment() first.\")\n",
        "        state, reward, done, info = self.env.step(action)\n",
        "        return self.preprocess_frame(state), reward, done, info\n",
        "\n",
        "    def render_frame(self):\n",
        "        \"\"\"Render the current frame in RGB format.\"\"\"\n",
        "        if self.env is None:\n",
        "            raise ValueError(\"Environment not created. Call create_environment() first.\")\n",
        "        return self.env.render(mode='rgb_array')\n",
        "\n",
        "    def close(self):\n",
        "        \"\"\"Close the environment.\"\"\"\n",
        "        if self.env:\n",
        "            self.env.close()\n"
      ],
      "metadata": {
        "id": "g0pr7MQFAJ6C"
      },
      "execution_count": 3,
      "outputs": []
    },
    {
      "cell_type": "code",
      "source": [
        "\n",
        "\n",
        "# Create the game environment\n",
        "env = make(\"SuperMarioBros-1-1-v0\")\n",
        "env = FrameStack(env, num_stack=4)  # Stack 4 consecutive frames\n",
        "\n",
        "# Get frame dimensions\n",
        "state = env.reset()\n",
        "img = env.render(mode='rgb_array')\n",
        "frame_height, frame_width, _ = img.shape\n",
        "\n",
        "# Configure video writer\n",
        "video_filename = \"super_mario.mp4\"\n",
        "fps = 30  # Frames per second\n",
        "video_writer = cv2.VideoWriter(\n",
        "    video_filename,\n",
        "    cv2.VideoWriter_fourcc(*\"mp4v\"),\n",
        "    fps,\n",
        "    (frame_width, frame_height),\n",
        ")\n",
        "\n",
        "# Frame buffer\n",
        "frame_buffer = []\n",
        "frame_time = 1 / fps  # Time per frame\n",
        "\n",
        "try:\n",
        "    start_time = time.time()\n",
        "    for step in range(1000):  # Number of steps to simulate\n",
        "        # Perform a random action\n",
        "        action = env.action_space.sample()\n",
        "        state, reward, done, info = env.step(action)\n",
        "\n",
        "        # Capture frame and add to buffer\n",
        "        img = env.render(mode='rgb_array')\n",
        "        frame_buffer.append(cv2.cvtColor(img, cv2.COLOR_RGB2BGR))\n",
        "\n",
        "        # Handle resets\n",
        "        if done:\n",
        "            print(f\"Game Over at step {step}. Restarting...\")\n",
        "            state = env.reset()\n",
        "            continue  # Skip writing frames during reset\n",
        "\n",
        "        # Synchronize frame timing\n",
        "        elapsed_time = time.time() - start_time\n",
        "        if elapsed_time < frame_time:\n",
        "            time.sleep(frame_time - elapsed_time)\n",
        "        start_time = time.time()\n",
        "\n",
        "    # Write all buffered frames to the video file\n",
        "    for frame in frame_buffer:\n",
        "        video_writer.write(frame)\n",
        "\n",
        "finally:\n",
        "    env.close()\n",
        "    video_writer.release()\n",
        "    print(f\"Video saved as {video_filename}\")\n"
      ],
      "metadata": {
        "colab": {
          "base_uri": "https://localhost:8080/"
        },
        "id": "-Ept7PbBYvYv",
        "outputId": "56ffb10b-11bb-40ab-ecf8-0855a4c1d128"
      },
      "execution_count": 9,
      "outputs": [
        {
          "output_type": "stream",
          "name": "stdout",
          "text": [
            "Video saved as super_mario.mp4\n"
          ]
        }
      ]
    }
  ]
}