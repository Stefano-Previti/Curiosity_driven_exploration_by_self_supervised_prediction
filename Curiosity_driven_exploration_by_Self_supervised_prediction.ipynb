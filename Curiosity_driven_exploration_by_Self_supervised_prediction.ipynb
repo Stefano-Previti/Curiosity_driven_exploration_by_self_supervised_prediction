{
  "nbformat": 4,
  "nbformat_minor": 0,
  "metadata": {
    "colab": {
      "provenance": [],
      "authorship_tag": "ABX9TyMIrJPe4/r3q6ZUlj+ppzzC",
      "include_colab_link": true
    },
    "kernelspec": {
      "name": "python3",
      "display_name": "Python 3"
    },
    "language_info": {
      "name": "python"
    }
  },
  "cells": [
    {
      "cell_type": "markdown",
      "metadata": {
        "id": "view-in-github",
        "colab_type": "text"
      },
      "source": [
        "<a href=\"https://colab.research.google.com/github/Stefano-Previti/Curiosity_driven_exploration_by_self_supervised_prediction/blob/main/Curiosity_driven_exploration_by_Self_supervised_prediction.ipynb\" target=\"_parent\"><img src=\"https://colab.research.google.com/assets/colab-badge.svg\" alt=\"Open In Colab\"/></a>"
      ]
    },
    {
      "cell_type": "markdown",
      "source": [
        "**▶INITIAL SETUP OF THE ENVIROMENT**"
      ],
      "metadata": {
        "id": "RMJGOp4E4FmC"
      }
    },
    {
      "cell_type": "code",
      "source": [
        "# Super Mario environment for OpenAI Gym\n",
        "!pip install gym-super-mario-bros\n",
        "\n",
        "# Backend for NES emulation\n",
        "!pip install nes-py\n",
        "\n",
        "# PyTorch for building and training neural networks\n",
        "!pip install torch torchvision\n",
        "\n",
        "# TensorBoard for monitoring training progress\n",
        "!pip install tensorboard\n",
        "\n",
        "# Visualization tools for plotting and analysis\n",
        "!pip install matplotlib\n"
      ],
      "metadata": {
        "id": "HoJQskYsRIGK"
      },
      "execution_count": null,
      "outputs": []
    },
    {
      "cell_type": "code",
      "source": [
        "!pip install pyvirtualdisplay\n"
      ],
      "metadata": {
        "id": "V1-enpT1_L7W"
      },
      "execution_count": null,
      "outputs": []
    },
    {
      "cell_type": "code",
      "source": [
        "from pyvirtualdisplay import Display\n",
        "import gym\n",
        "from gym_super_mario_bros import make\n",
        "from gym_super_mario_bros.actions import COMPLEX_MOVEMENT\n",
        "from gym.wrappers import FrameStack\n",
        "from matplotlib import pyplot as plt\n",
        "from IPython.display import display, clear_output\n",
        "from PIL import Image\n",
        "import numpy as np\n",
        "import cv2\n",
        "import random\n",
        "import time\n",
        "from gym.spaces import Box\n",
        "# Wrapper to skip frames\n",
        "class SkipFrame(gym.Wrapper):\n",
        "    def __init__(self, env, skip):\n",
        "        \"\"\"Return only every `skip`-th frame\"\"\"\n",
        "        super().__init__(env)\n",
        "        self._skip = skip\n",
        "\n",
        "    def step(self, action):\n",
        "        \"\"\"Repeat action, sum rewards, and return the last observation\"\"\"\n",
        "        total_reward = 0.0\n",
        "        done = False\n",
        "        for _ in range(self._skip):\n",
        "            obs, reward, done, info = self.env.step(action)\n",
        "            total_reward += reward\n",
        "            if done:\n",
        "                break\n",
        "        return obs, total_reward, done, info\n",
        "\n",
        "\n",
        "# Wrapper to convert frames to grayscale\n",
        "class GrayScaleObservation(gym.ObservationWrapper):\n",
        "    def __init__(self, env):\n",
        "        super().__init__(env)\n",
        "        obs_shape = self.observation_space.shape[:2]\n",
        "        self.observation_space = Box(low=0, high=255, shape=obs_shape, dtype=np.uint8)\n",
        "\n",
        "    def observation(self, observation):\n",
        "        return cv2.cvtColor(observation, cv2.COLOR_RGB2GRAY)\n",
        "\n",
        "\n",
        "# Wrapper to resize frames\n",
        "class ResizeObservation(gym.ObservationWrapper):\n",
        "    def __init__(self, env, shape):\n",
        "        super().__init__(env)\n",
        "        self.shape = (shape, shape) if isinstance(shape, int) else tuple(shape)\n",
        "        obs_shape = self.shape + (1,)  # Add channel dimension for grayscale\n",
        "        self.observation_space = Box(low=0, high=255, shape=obs_shape, dtype=np.uint8)\n",
        "\n",
        "    def observation(self, observation):\n",
        "        observation = cv2.resize(observation, self.shape, interpolation=cv2.INTER_AREA)\n",
        "        return np.expand_dims(observation, axis=-1)  # Add channel dimension\n",
        "\n",
        "\n",
        "# Updated Super Mario Environment Class\n",
        "class SuperMarioEnvironment:\n",
        "    def __init__(self, level_id=\"SuperMarioBros-1-1-v0\", frame_size=(42, 42), skip_frames=4):\n",
        "        \"\"\"Initialize the Super Mario Environment.\"\"\"\n",
        "        self.level_id = level_id\n",
        "        self.frame_size = frame_size\n",
        "        self.skip_frames = skip_frames\n",
        "        self.env = None\n",
        "        self.actions = COMPLEX_MOVEMENT\n",
        "\n",
        "    def create_environment(self):\n",
        "        \"\"\"Create the Super Mario environment with frame skipping, grayscale, and resizing.\"\"\"\n",
        "        self.env = make(self.level_id)\n",
        "        self.env = SkipFrame(self.env, skip=self.skip_frames)  # Skip frames\n",
        "        self.env = GrayScaleObservation(self.env)  # Convert to grayscale\n",
        "        self.env = ResizeObservation(self.env, shape=self.frame_size)  # Resize frames\n",
        "        self.env = FrameStack(self.env, num_stack=4)  # Stack frames\n",
        "        print(f\"Environment for {self.level_id} created.\")\n",
        "\n",
        "    def reset_environment(self):\n",
        "        \"\"\"Reset the environment and return the initial state.\"\"\"\n",
        "        if self.env is None:\n",
        "            raise ValueError(\"Environment not created. Call create_environment() first.\")\n",
        "        return self.env.reset()\n",
        "\n",
        "    def step(self, action):\n",
        "        \"\"\"Take an action in the environment.\"\"\"\n",
        "        if self.env is None:\n",
        "            raise ValueError(\"Environment not created. Call create_environment() first.\")\n",
        "        return self.env.step(action)\n",
        "\n",
        "    def render_frame(self):\n",
        "        \"\"\"Render the current frame in RGB format.\"\"\"\n",
        "        if self.env is None:\n",
        "            raise ValueError(\"Environment not created. Call create_environment() first.\")\n",
        "        return self.env.render(mode='rgb_array')\n",
        "\n",
        "    def close(self):\n",
        "        \"\"\"Close the environment.\"\"\"\n",
        "        if self.env:\n",
        "            self.env.close()\n",
        "    @property\n",
        "    def action_space(self):\n",
        "        if self.env is None:\n",
        "            raise ValueError(\"Environment not created. Call create_environment() first.\")\n",
        "        return self.env.action_space"
      ],
      "metadata": {
        "id": "fvHm2qISCJz1"
      },
      "execution_count": 16,
      "outputs": []
    },
    {
      "cell_type": "code",
      "source": [
        "# Create the game environment\n",
        "env = SuperMarioEnvironment(frame_size=(42, 42), skip_frames=4)\n",
        "env.create_environment()\n",
        "\n",
        "# Get frame dimensions\n",
        "state = env.reset_environment()\n",
        "frame = env.render_frame()\n",
        "frame_height, frame_width, _ = frame.shape\n",
        "\n",
        "# Configure video writer\n",
        "video_filename = \"super_mario.mp4\"\n",
        "fps = 20  # Frames per second\n",
        "video_writer = cv2.VideoWriter(\n",
        "    video_filename,\n",
        "    cv2.VideoWriter_fourcc(*\"mp4v\"),\n",
        "    fps,\n",
        "    (frame_width, frame_height),\n",
        ")\n",
        "\n",
        "# Frame buffer\n",
        "frame_buffer = []\n",
        "frame_time = 1 / fps  # Time per frame\n",
        "\n",
        "try:\n",
        "    start_time = time.time()\n",
        "    for step in range(1000):  # Number of steps to simulate\n",
        "        # Perform a random action from the action space\n",
        "        action = env.action_space.sample()\n",
        "        state, reward, done, info = env.step(action)\n",
        "\n",
        "        # Capture frame and add to buffer\n",
        "        frame = env.render_frame()  # Get the current rendered frame\n",
        "        frame_buffer.append(cv2.cvtColor(frame, cv2.COLOR_RGB2BGR))\n",
        "\n",
        "        # Handle resets\n",
        "        if done:\n",
        "            print(f\"Game Over at step {step}. Restarting...\")\n",
        "            state = env.reset_environment()\n",
        "            continue  # Skip writing frames during reset\n",
        "\n",
        "        # Synchronize frame timing\n",
        "        elapsed_time = time.time() - start_time\n",
        "        if elapsed_time < frame_time:\n",
        "            time.sleep(frame_time - elapsed_time)\n",
        "        start_time = time.time()\n",
        "\n",
        "    # Write all buffered frames to the video file\n",
        "    for frame in frame_buffer:\n",
        "        video_writer.write(frame)\n",
        "\n",
        "finally:\n",
        "    env.close()\n",
        "    video_writer.release()\n",
        "    print(f\"Video saved as {video_filename}\")\n",
        "\n"
      ],
      "metadata": {
        "colab": {
          "base_uri": "https://localhost:8080/"
        },
        "id": "zhkLUPsbAn9Q",
        "outputId": "c3dc7bb0-325f-4a08-971e-06c56392fc61"
      },
      "execution_count": 18,
      "outputs": [
        {
          "output_type": "stream",
          "name": "stdout",
          "text": [
            "Environment for SuperMarioBros-1-1-v0 created with optimized wrappers.\n",
            "Game Over at step 208. Restarting...\n",
            "Video saved as super_mario.mp4\n"
          ]
        }
      ]
    },
    {
      "cell_type": "markdown",
      "source": [
        "**▶ICM**"
      ],
      "metadata": {
        "id": "CHTuCK0F9oPt"
      }
    },
    {
      "cell_type": "code",
      "source": [],
      "metadata": {
        "id": "tA9OZm6h9mTL"
      },
      "execution_count": null,
      "outputs": []
    }
  ]
}